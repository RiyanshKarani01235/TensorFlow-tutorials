{
 "cells": [
  {
   "cell_type": "markdown",
   "metadata": {},
   "source": [
    "# Tensors"
   ]
  },
  {
   "cell_type": "markdown",
   "metadata": {},
   "source": [
    ">TensorFlow programs use a tensor data structure to represent all data. Only tensors may be passed between nodes in the computation graph. You can think of a TensorFlow tensor as an n-dimensional array or list.<br>\n",
    "\n",
    "Tensors in TensorFlow are instances of class ***Tensor***\n",
    "## <span style=\"color:darkblue\">class Tensor</span> \n",
    ">Represents the value produced by an operation\n",
    "\n",
    "A Tensor is a symbolic handle to one of the outputs of an Operation. It does not hold the values of that operation's output, but instead provides a means of computing those values in a TensorFlow Session."
   ]
  },
  {
   "cell_type": "markdown",
   "metadata": {},
   "source": [
    "In the following example, c, d, and e are symbolic Tensor objects, whereas result is a numpy array that stores a concrete value:"
   ]
  },
  {
   "cell_type": "code",
   "execution_count": 45,
   "metadata": {
    "collapsed": false
   },
   "outputs": [
    {
     "name": "stdout",
     "output_type": "stream",
     "text": [
      "[[ 1.  3.]\n",
      " [ 3.  7.]]\n"
     ]
    }
   ],
   "source": [
    "import tensorflow as tf\n",
    "\n",
    "# Build a dataflow graph.\n",
    "c = tf.constant([[1.0, 2.0], [3.0, 4.0]],name='some_name')\n",
    "d = tf.constant([[1.0, 1.0], [0.0, 1.0]])\n",
    "e = tf.matmul(c, d)\n",
    "\n",
    "# Construct a `Session` to execut the graph.\n",
    "sess = tf.Session()\n",
    "\n",
    "# Execute the graph and store the value that `e` represents in `result`.\n",
    "result = sess.run(e)\n",
    "print(result)"
   ]
  },
  {
   "cell_type": "markdown",
   "metadata": {},
   "source": [
    "This class has two primary purposes:\n",
    "\n",
    "1. A Tensor can be passed as an input to another Operation. This builds a dataflow connection between operations, which enables TensorFlow to execute an entire Graph that represents a large, multi-step computation.\n",
    "\n",
    "2. After the graph has been launched in a session, the value of the Tensor can be computed by passing it to ***Session.run()***. ***t.eval()*** is a shortcut for calling ***tf.get_default_session().run(t)***."
   ]
  },
  {
   "cell_type": "markdown",
   "metadata": {},
   "source": [
    "### <span style=\"color:#6495ED\">Attributes</span>\n",
    "#### <span style=\"color:lightblue\">1. Tensor.dtype<span>\n",
    ">The DType (data type) of elements in this tensor."
   ]
  },
  {
   "cell_type": "code",
   "execution_count": 53,
   "metadata": {
    "collapsed": false
   },
   "outputs": [
    {
     "data": {
      "text/plain": [
       "tf.float32"
      ]
     },
     "execution_count": 53,
     "metadata": {},
     "output_type": "execute_result"
    }
   ],
   "source": [
    "var = tf.constant([[1.0, 2.0], [3.0, 4.0]])\n",
    "var.dtype"
   ]
  },
  {
   "cell_type": "markdown",
   "metadata": {},
   "source": [
    "#### <span style=\"color:lightblue\">2. Tensor.name</span>\n",
    "> the string name of the tensor"
   ]
  },
  {
   "cell_type": "code",
   "execution_count": 47,
   "metadata": {
    "collapsed": false,
    "scrolled": true
   },
   "outputs": [
    {
     "data": {
      "text/plain": [
       "u'some_name_13:0'"
      ]
     },
     "execution_count": 47,
     "metadata": {},
     "output_type": "execute_result"
    }
   ],
   "source": [
    "var = tf.constant([[1.0, 2.0], [3.0, 4.0]],name='some_name')\n",
    "var.name"
   ]
  },
  {
   "cell_type": "markdown",
   "metadata": {},
   "source": [
    "#### <span style=\"color:lightblue\">3. Tensor.value_index</span>\n",
    ">The index of this tensor in the outputs of its Operation."
   ]
  },
  {
   "cell_type": "code",
   "execution_count": 48,
   "metadata": {
    "collapsed": false
   },
   "outputs": [
    {
     "data": {
      "text/plain": [
       "0"
      ]
     },
     "execution_count": 48,
     "metadata": {},
     "output_type": "execute_result"
    }
   ],
   "source": [
    "var = tf.constant([[1.0, 2.0], [3.0, 4.0]])\n",
    "var.value_index"
   ]
  },
  {
   "cell_type": "markdown",
   "metadata": {},
   "source": [
    "#### <span style=\"color:lightblue\">4. Tensor.graph</span>\n",
    ">The graph that contains this tensor"
   ]
  },
  {
   "cell_type": "code",
   "execution_count": 49,
   "metadata": {
    "collapsed": false
   },
   "outputs": [
    {
     "data": {
      "text/plain": [
       "<tensorflow.python.framework.ops.Graph at 0x103f20210>"
      ]
     },
     "execution_count": 49,
     "metadata": {},
     "output_type": "execute_result"
    }
   ],
   "source": [
    "var = tf.constant([[1.0, 2.0], [3.0, 4.0]])\n",
    "var.graph"
   ]
  },
  {
   "cell_type": "markdown",
   "metadata": {},
   "source": [
    "#### <span style=\"color:lightblue\">5. Tensor.op</span>\n",
    ">The operation that produces this tensor as an output"
   ]
  },
  {
   "cell_type": "code",
   "execution_count": 50,
   "metadata": {
    "collapsed": false
   },
   "outputs": [
    {
     "data": {
      "text/plain": [
       "<tensorflow.python.framework.ops.Operation at 0x107865ad0>"
      ]
     },
     "execution_count": 50,
     "metadata": {},
     "output_type": "execute_result"
    }
   ],
   "source": [
    "var = tf.constant([[1.0, 2.0], [3.0, 4.0]])\n",
    "var.op"
   ]
  },
  {
   "cell_type": "markdown",
   "metadata": {},
   "source": [
    "<span style=\"color:lightblue\">6. Tensor.device</span>\n",
    ">The device on which this tensor will be produced, or None"
   ]
  },
  {
   "cell_type": "code",
   "execution_count": 70,
   "metadata": {
    "collapsed": false
   },
   "outputs": [
    {
     "name": "stdout",
     "output_type": "stream",
     "text": [
      "None\n"
     ]
    }
   ],
   "source": [
    "var = tf.constant([[1,2,3]])\n",
    "print(var.device)"
   ]
  },
  {
   "cell_type": "markdown",
   "metadata": {},
   "source": [
    "### <span style=\"color:#6495ED\">Methods<span> \n",
    "<span style=\"color:lightblue\">1. Tensor.consumers()</span>\n",
    "\n",
    ">Returns a list of operations that consume this tensor\n",
    "\n",
    ">**Args** : <br>\n",
    "none\n",
    "\n",
    ">**Returns** : <br>\n",
    "a list of operations"
   ]
  },
  {
   "cell_type": "code",
   "execution_count": 54,
   "metadata": {
    "collapsed": false,
    "scrolled": true
   },
   "outputs": [
    {
     "data": {
      "text/plain": [
       "[<tensorflow.python.framework.ops.Operation at 0x1078dc250>,\n",
       " <tensorflow.python.framework.ops.Operation at 0x1078dc6d0>]"
      ]
     },
     "execution_count": 54,
     "metadata": {},
     "output_type": "execute_result"
    }
   ],
   "source": [
    "var1 = tf.constant([[1.0, 2.0], [3.0, 4.0]],name='some_name')\n",
    "var2 = tf.constant([[1.0, 1.0], [0.0, 1.0]])\n",
    "var3 = tf.matmul(var1,var2)\n",
    "var4 = tf.matmul(var2,var1)\n",
    "var1.consumers()"
   ]
  },
  {
   "cell_type": "markdown",
   "metadata": {},
   "source": [
    "<span style=\"color:lightblue\">2. Tensor.eval(feed_dict=None, session=None)</span>\n",
    ">Evaluates this tensor in a Session.<br>\n",
    "Calling this method will execute all preceding operations that produce the inputs needed for the operation that produces this tensor.\n",
    "\n",
    ">Before invoking Tensor.eval(), its graph must have been launched in a session, and either a default session must be available, or session must be specified explicitly.<br>\n",
    "\n",
    ">###### Args : \n",
    "1. feed_dict: A dictionary that maps Tensor objects to feed values. See Session.run() for a description of the valid feed values.\n",
    "2. session: (Optional.) The Session to be used to evaluate this tensor. If none, the default session will be used.\n",
    "\n",
    ">###### Returns : \n",
    "A numpy array corresponding to the value of this tensor."
   ]
  },
  {
   "cell_type": "code",
   "execution_count": 55,
   "metadata": {
    "collapsed": false
   },
   "outputs": [
    {
     "data": {
      "text/plain": [
       "array([[ 1.,  3.],\n",
       "       [ 3.,  7.]], dtype=float32)"
      ]
     },
     "execution_count": 55,
     "metadata": {},
     "output_type": "execute_result"
    }
   ],
   "source": [
    "var1 = tf.constant([[1.0, 2.0], [3.0, 4.0]],name='some_name')\n",
    "var2 = tf.constant([[1.0, 1.0], [0.0, 1.0]])\n",
    "var3 = tf.matmul(var1,var2)\n",
    "sess = tf.Session()\n",
    "var3.eval(session=sess)"
   ]
  },
  {
   "cell_type": "markdown",
   "metadata": {},
   "source": [
    "<span style=\"color:lightblue\">3. Tensor.get_shape()</span>\n",
    "\n",
    ">Returns the ***TensorShape*** instance that represents the shape of this tensor.<br>\n",
    "The shape is computed using shape inference functions that are registered for each Operation type using ***tf.RegisterShape***.<br>\n",
    "\n",
    ">**Args** : <br>\n",
    "none\n",
    "\n",
    ">**Returns** : <br>\n",
    "***TensorShape*** instance\n",
    "\n",
    ">The inferred shape of a tensor is used to provide shape information without having to launch the graph in a session. This can be used for debugging, and providing early error messages."
   ]
  },
  {
   "cell_type": "code",
   "execution_count": 56,
   "metadata": {
    "collapsed": false,
    "scrolled": true
   },
   "outputs": [
    {
     "name": "stdout",
     "output_type": "stream",
     "text": [
      "TensorShape([Dimension(2), Dimension(3)])\n"
     ]
    }
   ],
   "source": [
    "c = tf.constant([[1.0, 2.0, 3.0], [4.0, 5.0, 6.0]])\n",
    "print c.get_shape()"
   ]
  },
  {
   "cell_type": "code",
   "execution_count": 58,
   "metadata": {
    "collapsed": false
   },
   "outputs": [
    {
     "name": "stdout",
     "output_type": "stream",
     "text": [
      "TensorShape([Dimension(4), Dimension(2)])\n"
     ]
    }
   ],
   "source": [
    "d = tf.constant([[1.0, 0.0], [0.0, 1.0], [1.0, 0.0], [0.0, 1.0]])\n",
    "print d.get_shape()"
   ]
  },
  {
   "cell_type": "code",
   "execution_count": 66,
   "metadata": {
    "collapsed": false
   },
   "outputs": [
    {
     "name": "stdout",
     "output_type": "stream",
     "text": [
      "TensorShape([Dimension(3), Dimension(4)])\n"
     ]
    }
   ],
   "source": [
    "try :\n",
    "    # raises value error because shapes of tensors c and d are not compatible\n",
    "    # the error message is raised before the session begins\n",
    "    e = tf.matmul(c, d)\n",
    "except ValueError : \n",
    "    f = tf.matmul(c, d, transpose_a=True, transpose_b=True)\n",
    "    print(f.get_shape())"
   ]
  },
  {
   "cell_type": "markdown",
   "metadata": {},
   "source": [
    "<span style=\"color:lightblue\">4. Tensor.set_shape(shape)</span>\n",
    "\n",
    ">Updates the shape of this tensor.\n",
    "\n",
    ">This method can be called multiple times, and will merge the given shape with the current shape of this tensor. It can be used to provide additional information about the shape of this tensor that cannot be inferred from the graph alone. For example, this can be used to provide additional information about the shapes of images.\n",
    "\n",
    ">**args** <br>\n",
    "shape : a TensorShape instance representing the shape of this tensor\n",
    "\n",
    ">**raises** <br>\n",
    "ValueError if the shape is not compatible with the current shape of the tensor (**the shape of a tensor is always defined, it is the dimensions of the tensors that can be undefined**)"
   ]
  },
  {
   "cell_type": "markdown",
   "metadata": {},
   "source": [
    "<span style=\"color:lightblue\">5. Tensor.__init__(op,value_index,dtype)</span>\n",
    "\n",
    ">creates a new tensor\n",
    "\n",
    ">**args :** <br>\n",
    "op : an ***Operation*** that computes this tensor<br>\n",
    "value_index : an ***int*** index of the operation's endpoint that produces this tensor.<br>\n",
    "dtype : a ***DType*** which indicates the type of data stored in the tensor.\n",
    "\n",
    ">**raises**<br>\n",
    "TypeError if the op is not an ***Operation***"
   ]
  },
  {
   "cell_type": "markdown",
   "metadata": {},
   "source": []
  },
  {
   "cell_type": "markdown",
   "metadata": {},
   "source": [
    "A tensor has ***dynamic dimensions*** and a ***static type*** :\n",
    "1. Rank of the tensor\n",
    "2. Shape of the tensor\n",
    "3. Type of the tensor"
   ]
  },
  {
   "cell_type": "markdown",
   "metadata": {},
   "source": [
    "### Rank of a Tensor "
   ]
  },
  {
   "cell_type": "markdown",
   "metadata": {},
   "source": [
    "In the TensorFlow system, tensors are described by a unit of dimensionality known as rank. Tensor rank is not the same as matrix rank. Tensor rank (sometimes referred to as order or degree or n-dimension) is the number of dimensions of the tensor. For example, the following tensor (defined as a Python list) has a rank of 2:\n",
    "\n",
    "    t = [[1, 2, 3], [4, 5, 6], [7, 8, 9]]"
   ]
  },
  {
   "cell_type": "markdown",
   "metadata": {},
   "source": [
    "A rank two tensor is what we typically think of as a matrix, a rank one tensor is a vector : <br>\n",
    "For a rank two tensor you can acccess any element with the syntax \n",
    "    t[i, j].<br>\n",
    "For a rank three tensor you would need to address an element with \n",
    "    t[i, j, k]."
   ]
  },
  {
   "cell_type": "markdown",
   "metadata": {},
   "source": [
    "### Shape of a Tensor"
   ]
  },
  {
   "cell_type": "markdown",
   "metadata": {},
   "source": [
    "Shapes can be represented via Python lists / tuples of ints, or with the [***TensorShape***](http://tensorflow.org/api_docs/python/framework.md#TensorShape) class, and the dimensions of the TensorShape can be set using the [***Dimension***](http://tensorflow.org/api_docs/python/framework.md#Deimension) class.\n",
    "\n",
    "##### class TensorShape \n",
    "Represents the shape of a Tensor.<br>\n",
    "A TensorShape represents a possibly-partial shape specification for a Tensor. It may be one of the following:\n",
    "* Fully-known shape: has a known number of dimensions and a known size for each dimension.\n",
    "* Partially-known shape: has a known number of dimensions, and an unknown size for one or more dimension.\n",
    "* Unknown shape: has an unknown number of dimensions, and an unknown size in all dimensions.\n",
    "\n",
    "##### class Dimension\n",
    "Represents the value of one dimension in a TensorShape."
   ]
  },
  {
   "cell_type": "code",
   "execution_count": null,
   "metadata": {
    "collapsed": true
   },
   "outputs": [],
   "source": []
  }
 ],
 "metadata": {
  "kernelspec": {
   "display_name": "Python 2",
   "language": "python",
   "name": "python2"
  },
  "language_info": {
   "codemirror_mode": {
    "name": "ipython",
    "version": 2
   },
   "file_extension": ".py",
   "mimetype": "text/x-python",
   "name": "python",
   "nbconvert_exporter": "python",
   "pygments_lexer": "ipython2",
   "version": "2.7.10"
  }
 },
 "nbformat": 4,
 "nbformat_minor": 0
}
