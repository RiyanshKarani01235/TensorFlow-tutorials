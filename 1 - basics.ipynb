{
 "cells": [
  {
   "cell_type": "markdown",
   "metadata": {},
   "source": [
    "# Introduction"
   ]
  },
  {
   "cell_type": "markdown",
   "metadata": {},
   "source": [
    ">**Tensorflow** is a programming system in which you represent computations as graphs. The nodes of the graphs are called **ops (operations)** and the edges in the graph are the **Tensors (A mumtidimensional array)**. "
   ]
  },
  {
   "cell_type": "markdown",
   "metadata": {},
   "source": [
    "# Tensors"
   ]
  },
  {
   "cell_type": "markdown",
   "metadata": {},
   "source": [
    ">TensorFlow programs use a tensor data structure to represent all data. Only tensors may be passed between nodes in the computation graph. You can think of a TensorFlow tensor as an n-dimensional array or list.<br>\n",
    "\n",
    "Tensors in TensorFlow are instances of class ***Tensor***\n",
    "### class Tensor \n",
    ">Represents the value produced by an operation\n",
    "\n",
    "A Tensor is a symbolic handle to one of the outputs of an Operation. It does not hold the values of that operation's output, but instead provides a means of computing those values in a TensorFlow Session.\n",
    "This class has two primary purposes:\n",
    "\n",
    "1. A Tensor can be passed as an input to another Operation. This builds a dataflow connection between operations, which enables TensorFlow to execute an entire Graph that represents a large, multi-step computation.\n",
    "\n",
    "2. After the graph has been launched in a session, the value of the Tensor can be computed by passing it to ***Session.run()***. ***t.eval() is a shortcut for calling tf.get_default_session().run(t).\n",
    "\n",
    "<br>\n",
    "A tensor has ***dynamic dimensions*** and a ***static type*** :\n",
    "1. Rank of the tensor\n",
    "2. Shape of the tensor\n",
    "3. Type of the tensor"
   ]
  },
  {
   "cell_type": "markdown",
   "metadata": {},
   "source": [
    "### Rank of a Tensor "
   ]
  },
  {
   "cell_type": "markdown",
   "metadata": {},
   "source": [
    "In the TensorFlow system, tensors are described by a unit of dimensionality known as rank. Tensor rank is not the same as matrix rank. Tensor rank (sometimes referred to as order or degree or n-dimension) is the number of dimensions of the tensor. For example, the following tensor (defined as a Python list) has a rank of 2:\n",
    "\n",
    "    t = [[1, 2, 3], [4, 5, 6], [7, 8, 9]]"
   ]
  },
  {
   "cell_type": "markdown",
   "metadata": {},
   "source": [
    "A rank two tensor is what we typically think of as a matrix, a rank one tensor is a vector : <br>\n",
    "For a rank two tensor you can acccess any element with the syntax \n",
    "    t[i, j].<br>\n",
    "For a rank three tensor you would need to address an element with \n",
    "    t[i, j, k]."
   ]
  },
  {
   "cell_type": "markdown",
   "metadata": {},
   "source": [
    "### Shape of a Tensor"
   ]
  },
  {
   "cell_type": "markdown",
   "metadata": {},
   "source": [
    "Shapes can be represented via Python lists / tuples of ints, or with the [***TensorShape***](http://tensorflow.org/api_docs/python/framework.md#TensorShape) class, and the dimensions of the TensorShape can be set using the [***Dimension***](http://tensorflow.org/api_docs/python/framework.md#Deimension) class.\n",
    "\n",
    "##### class TensorShape \n",
    "Represents the shape of a Tensor.<br>\n",
    "A TensorShape represents a possibly-partial shape specification for a Tensor. It may be one of the following:\n",
    "* Fully-known shape: has a known number of dimensions and a known size for each dimension.\n",
    "* Partially-known shape: has a known number of dimensions, and an unknown size for one or more dimension.\n",
    "* Unknown shape: has an unknown number of dimensions, and an unknown size in all dimensions.\n",
    "\n",
    "##### class Dimension\n",
    "Represents the value of one dimension in a TensorShape."
   ]
  },
  {
   "cell_type": "markdown",
   "metadata": {
    "collapsed": true
   },
   "source": [
    "TensorFlow programs are usually structured into : \n",
    "* a construction phase : assemble the graph\n",
    "* an execution phase : launch the graph in a session"
   ]
  },
  {
   "cell_type": "markdown",
   "metadata": {},
   "source": [
    "# construction phase"
   ]
  },
  {
   "cell_type": "markdown",
   "metadata": {},
   "source": [
    "To build a graph **start with ops that do not need any input (source ops)**, such as *Constant*, and pass their output to other ops that do computation. The ops constructors in the TensorFlow Python library return objects that stand for the output of the constructed ops. You can pass these to other ops constructors to use as inputs.<br/>\n",
    "TensorFlow Python library has a default graph, to which ops constructors add nodes. This default graph is enough for many applications. see the [Graph Class](http://tensorflow.org/api_docs/python/framework.md#Graph) documentation for how to explicitly manage multiple graphs."
   ]
  },
  {
   "cell_type": "code",
   "execution_count": 16,
   "metadata": {
    "collapsed": true
   },
   "outputs": [],
   "source": [
    "import tensorflow as tf"
   ]
  },
  {
   "cell_type": "markdown",
   "metadata": {},
   "source": [
    "### using the *constant* ops to create tensors"
   ]
  },
  {
   "cell_type": "code",
   "execution_count": 17,
   "metadata": {
    "collapsed": true
   },
   "outputs": [],
   "source": [
    "matrix1 = tf.constant([[1,2]]) # create a 1x2 matrix constant\n",
    "matrix2 = tf.constant([[1],[2]]) # create a 2x1 matrix constant"
   ]
  },
  {
   "cell_type": "markdown",
   "metadata": {},
   "source": [
    "### using the matmul ops to multiply two tensors"
   ]
  },
  {
   "cell_type": "code",
   "execution_count": 18,
   "metadata": {
    "collapsed": false
   },
   "outputs": [],
   "source": [
    "product = tf.matmul(matrix1,matrix2) # add an ops node that multiplys two tensors"
   ]
  },
  {
   "cell_type": "markdown",
   "metadata": {},
   "source": [
    "The default graph now has three nodes, two *constant()* ops and one *matmul()* op."
   ]
  },
  {
   "cell_type": "markdown",
   "metadata": {},
   "source": [
    "# execution phase"
   ]
  },
  {
   "cell_type": "markdown",
   "metadata": {},
   "source": [
    "To compute anything, a graph must be launched in a Session.\n",
    "<br/>A Session places the graph ops onto Devices, such as CPUs or GPUs, and provides methods to execute them. These methods return tensors produced by ops as numpy ndarray objects in Python."
   ]
  },
  {
   "cell_type": "markdown",
   "metadata": {},
   "source": [
    "### create a Session object"
   ]
  },
  {
   "cell_type": "markdown",
   "metadata": {},
   "source": [
    "To launch a graph, create a Session object. Without arguments the session constructor launches the default graph."
   ]
  },
  {
   "cell_type": "code",
   "execution_count": 21,
   "metadata": {
    "collapsed": false
   },
   "outputs": [],
   "source": [
    "sess = tf.Session()"
   ]
  },
  {
   "cell_type": "markdown",
   "metadata": {},
   "source": [
    "### run the Session with the run() method"
   ]
  },
  {
   "cell_type": "markdown",
   "metadata": {},
   "source": [
    "To run the matmul op we call the session ***run()*** method, passing ***product*** which represents the output of the matmul op. This indicates to the call that we want to get the output of the matmul op back. <br/>\n",
    "All inputs needed by the op are run automatically by the session. They typically are run in parallel.<br/>\n",
    "The call ***run(product)*** thus causes the execution of threes ops in the graph: the two constants and matmul."
   ]
  },
  {
   "cell_type": "code",
   "execution_count": 23,
   "metadata": {
    "collapsed": true
   },
   "outputs": [],
   "source": [
    "result = sess.run(product)"
   ]
  },
  {
   "cell_type": "markdown",
   "metadata": {},
   "source": [
    "The output of the op is returned in ***result*** as a numpy ***ndarray*** object."
   ]
  },
  {
   "cell_type": "code",
   "execution_count": 28,
   "metadata": {
    "collapsed": false
   },
   "outputs": [
    {
     "name": "stdout",
     "output_type": "stream",
     "text": [
      "[[5]]\n",
      "<type 'numpy.ndarray'>\n"
     ]
    }
   ],
   "source": [
    "print(result)\n",
    "print(type(result))"
   ]
  },
  {
   "cell_type": "markdown",
   "metadata": {},
   "source": [
    "### close the Session using the close() method"
   ]
  },
  {
   "cell_type": "markdown",
   "metadata": {},
   "source": [
    "Sessions should be closed to release resources."
   ]
  },
  {
   "cell_type": "code",
   "execution_count": 29,
   "metadata": {
    "collapsed": true
   },
   "outputs": [],
   "source": [
    "sess.close()"
   ]
  },
  {
   "cell_type": "markdown",
   "metadata": {},
   "source": [
    "You can also enter a Session with a **with** block. The Session closes automatically at the end of the with block."
   ]
  },
  {
   "cell_type": "code",
   "execution_count": 30,
   "metadata": {
    "collapsed": false
   },
   "outputs": [
    {
     "name": "stdout",
     "output_type": "stream",
     "text": [
      "[array([[5]], dtype=int32)]\n"
     ]
    }
   ],
   "source": [
    "with tf.Session() as sess : \n",
    "    result = sess.run([product])\n",
    "    print result"
   ]
  },
  {
   "cell_type": "markdown",
   "metadata": {},
   "source": [
    "### specify the CPU or GPU to be used for the operations"
   ]
  },
  {
   "cell_type": "markdown",
   "metadata": {},
   "source": [
    "If you have more than one GPU available on your machine, to use a GPU beyond the first you must assign ops to it explicitly. Use ***with...Device*** statements to specify which CPU or GPU to use for operations:"
   ]
  },
  {
   "cell_type": "code",
   "execution_count": 33,
   "metadata": {
    "collapsed": false
   },
   "outputs": [
    {
     "name": "stdout",
     "output_type": "stream",
     "text": [
      "[[5]]\n"
     ]
    }
   ],
   "source": [
    "with tf.Session() as sess : \n",
    "    with tf.device(\"/gpu:1\") : \n",
    "        result = sess.run(product)\n",
    "        print(result)"
   ]
  },
  {
   "cell_type": "markdown",
   "metadata": {},
   "source": [
    "Devices are specified with strings. The currently supported devices are:\n",
    "* \"/cpu:0\": The CPU of your machine.\n",
    "* \"/gpu:0\": The GPU of your machine, if you have one.\n",
    "* \"/gpu:1\": The second GPU of your machine, etc.\n",
    "\n",
    "<br>\n",
    "See [Using GPUs](http://tensorflow.org/how_tos/using_gpu/index.md) for more information about GPUs and TensorFlow."
   ]
  },
  {
   "cell_type": "code",
   "execution_count": 40,
   "metadata": {
    "collapsed": false
   },
   "outputs": [
    {
     "data": {
      "text/plain": [
       "<tensorflow.python.framework.ops.Operation at 0x107882050>"
      ]
     },
     "execution_count": 40,
     "metadata": {},
     "output_type": "execute_result"
    }
   ],
   "source": [
    "variable1 = tf.Variable([1,2])\n",
    "variable1.initializer"
   ]
  },
  {
   "cell_type": "code",
   "execution_count": 59,
   "metadata": {
    "collapsed": false
   },
   "outputs": [
    {
     "data": {
      "text/plain": [
       "TensorShape([Dimension(2)])"
      ]
     },
     "execution_count": 59,
     "metadata": {},
     "output_type": "execute_result"
    }
   ],
   "source": [
    "variable1.get_shape()"
   ]
  }
 ],
 "metadata": {
  "kernelspec": {
   "display_name": "Python 2",
   "language": "python",
   "name": "python2"
  },
  "language_info": {
   "codemirror_mode": {
    "name": "ipython",
    "version": 2
   },
   "file_extension": ".py",
   "mimetype": "text/x-python",
   "name": "python",
   "nbconvert_exporter": "python",
   "pygments_lexer": "ipython2",
   "version": "2.7.10"
  }
 },
 "nbformat": 4,
 "nbformat_minor": 0
}
