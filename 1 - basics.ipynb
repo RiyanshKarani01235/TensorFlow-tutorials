{
 "cells": [
  {
   "cell_type": "markdown",
   "metadata": {},
   "source": [
    "# Introduction"
   ]
  },
  {
   "cell_type": "markdown",
   "metadata": {},
   "source": [
    ">**Tensorflow** is a programming system in which you represent computations as graphs. The nodes of the graphs are called **ops (operations)** and the edges in the graph are the **Tensors (A mumtidimensional array)**. "
   ]
  },
  {
   "cell_type": "markdown",
   "metadata": {
    "collapsed": true
   },
   "source": [
    "TensorFlow programs are usually structured into : \n",
    "* a construction phase : assemble the graph\n",
    "* an execution phase : launch the graph in a session"
   ]
  },
  {
   "cell_type": "markdown",
   "metadata": {},
   "source": [
    "# construction phase"
   ]
  },
  {
   "cell_type": "markdown",
   "metadata": {},
   "source": [
    "To build a graph **start with ops that do not need any input (source ops)**, such as *Constant*, and pass their output to other ops that do computation. The ops constructors in the TensorFlow Python library return objects that stand for the output of the constructed ops. You can pass these to other ops constructors to use as inputs.<br/>\n",
    "TensorFlow Python library has a default graph, to which ops constructors add nodes. This default graph is enough for many applications. see the [Graph Class](http://tensorflow.org/api_docs/python/framework.md#Graph) documentation for how to explicitly manage multiple graphs."
   ]
  },
  {
   "cell_type": "code",
   "execution_count": 16,
   "metadata": {
    "collapsed": true
   },
   "outputs": [],
   "source": [
    "import tensorflow as tf"
   ]
  },
  {
   "cell_type": "markdown",
   "metadata": {},
   "source": [
    "### using the *constant* ops to create tensors"
   ]
  },
  {
   "cell_type": "code",
   "execution_count": 17,
   "metadata": {
    "collapsed": true
   },
   "outputs": [],
   "source": [
    "matrix1 = tf.constant([[1,2]]) # create a 1x2 matrix constant\n",
    "matrix2 = tf.constant([[1],[2]]) # create a 2x1 matrix constant"
   ]
  },
  {
   "cell_type": "markdown",
   "metadata": {},
   "source": [
    "### using the matmul ops to multiply two tensors"
   ]
  },
  {
   "cell_type": "code",
   "execution_count": 18,
   "metadata": {
    "collapsed": false
   },
   "outputs": [],
   "source": [
    "product = tf.matmul(matrix1,matrix2) # add an ops node that multiplys two tensors"
   ]
  },
  {
   "cell_type": "markdown",
   "metadata": {},
   "source": [
    "The default graph now has three nodes, two *constant()* ops and one *matmul()* op."
   ]
  },
  {
   "cell_type": "markdown",
   "metadata": {},
   "source": [
    "# execution phase"
   ]
  },
  {
   "cell_type": "markdown",
   "metadata": {},
   "source": [
    "To compute anything, a graph must be launched in a Session.\n",
    "<br/>A Session places the graph ops onto Devices, such as CPUs or GPUs, and provides methods to execute them. These methods return tensors produced by ops as numpy ndarray objects in Python."
   ]
  },
  {
   "cell_type": "markdown",
   "metadata": {},
   "source": [
    "### create a Session object"
   ]
  },
  {
   "cell_type": "markdown",
   "metadata": {},
   "source": [
    "To launch a graph, create a Session object. Without arguments the session constructor launches the default graph."
   ]
  },
  {
   "cell_type": "code",
   "execution_count": 21,
   "metadata": {
    "collapsed": false
   },
   "outputs": [],
   "source": [
    "sess = tf.Session()"
   ]
  },
  {
   "cell_type": "markdown",
   "metadata": {},
   "source": [
    "### run the Session with the run() method"
   ]
  },
  {
   "cell_type": "markdown",
   "metadata": {},
   "source": [
    "To run the matmul op we call the session ***run()*** method, passing ***product*** which represents the output of the matmul op. This indicates to the call that we want to get the output of the matmul op back. <br/>\n",
    "All inputs needed by the op are run automatically by the session. They typically are run in parallel.<br/>\n",
    "The call ***run(product)*** thus causes the execution of threes ops in the graph: the two constants and matmul."
   ]
  },
  {
   "cell_type": "code",
   "execution_count": 23,
   "metadata": {
    "collapsed": true
   },
   "outputs": [],
   "source": [
    "result = sess.run(product)"
   ]
  },
  {
   "cell_type": "markdown",
   "metadata": {},
   "source": [
    "The output of the op is returned in ***result*** as a numpy ***ndarray*** object."
   ]
  },
  {
   "cell_type": "code",
   "execution_count": 28,
   "metadata": {
    "collapsed": false
   },
   "outputs": [
    {
     "name": "stdout",
     "output_type": "stream",
     "text": [
      "[[5]]\n",
      "<type 'numpy.ndarray'>\n"
     ]
    }
   ],
   "source": [
    "print(result)\n",
    "print(type(result))"
   ]
  },
  {
   "cell_type": "markdown",
   "metadata": {},
   "source": [
    "### close the Session using the close() method"
   ]
  },
  {
   "cell_type": "markdown",
   "metadata": {},
   "source": [
    "Sessions should be closed to release resources."
   ]
  },
  {
   "cell_type": "code",
   "execution_count": 29,
   "metadata": {
    "collapsed": true
   },
   "outputs": [],
   "source": [
    "sess.close()"
   ]
  },
  {
   "cell_type": "markdown",
   "metadata": {},
   "source": [
    "You can also enter a Session with a **with** block. The Session closes automatically at the end of the with block."
   ]
  },
  {
   "cell_type": "code",
   "execution_count": 30,
   "metadata": {
    "collapsed": false
   },
   "outputs": [
    {
     "name": "stdout",
     "output_type": "stream",
     "text": [
      "[array([[5]], dtype=int32)]\n"
     ]
    }
   ],
   "source": [
    "with tf.Session() as sess : \n",
    "    result = sess.run([product])\n",
    "    print result"
   ]
  },
  {
   "cell_type": "markdown",
   "metadata": {},
   "source": [
    "### specify the CPU or GPU to be used for the operations"
   ]
  },
  {
   "cell_type": "markdown",
   "metadata": {},
   "source": [
    "If you have more than one GPU available on your machine, to use a GPU beyond the first you must assign ops to it explicitly. Use ***with...Device*** statements to specify which CPU or GPU to use for operations:"
   ]
  },
  {
   "cell_type": "code",
   "execution_count": 33,
   "metadata": {
    "collapsed": false
   },
   "outputs": [
    {
     "name": "stdout",
     "output_type": "stream",
     "text": [
      "[[5]]\n"
     ]
    }
   ],
   "source": [
    "with tf.Session() as sess : \n",
    "    with tf.device(\"/gpu:1\") : \n",
    "        result = sess.run(product)\n",
    "        print(result)"
   ]
  },
  {
   "cell_type": "markdown",
   "metadata": {},
   "source": [
    "Devices are specified with strings. The currently supported devices are:\n",
    "* \"/cpu:0\": The CPU of your machine.\n",
    "* \"/gpu:0\": The GPU of your machine, if you have one.\n",
    "* \"/gpu:1\": The second GPU of your machine, etc.\n",
    "\n",
    "<br>\n",
    "See [Using GPUs](http://tensorflow.org/how_tos/using_gpu/index.md) for more information about GPUs and TensorFlow."
   ]
  }
 ],
 "metadata": {
  "kernelspec": {
   "display_name": "Python 2",
   "language": "python",
   "name": "python2"
  },
  "language_info": {
   "codemirror_mode": {
    "name": "ipython",
    "version": 2
   },
   "file_extension": ".py",
   "mimetype": "text/x-python",
   "name": "python",
   "nbconvert_exporter": "python",
   "pygments_lexer": "ipython2",
   "version": "2.7.10"
  }
 },
 "nbformat": 4,
 "nbformat_minor": 0
}
